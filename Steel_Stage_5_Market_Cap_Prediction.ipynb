{
 "cells": [
  {
   "cell_type": "markdown",
   "id": "0a6fb969-02aa-488d-9098-38bee766b040",
   "metadata": {},
   "source": [
    "##  Steel Dynamics Sustainability: Executive Level Benchmarking & Future Strategies"
   ]
  },
  {
   "cell_type": "markdown",
   "id": "007c0e54-0806-4d11-adb1-4e41e3f8d530",
   "metadata": {},
   "source": [
    "## Stage 5. Market Capitalization - Machine Learning Model Development and Evaluation"
   ]
  },
  {
   "cell_type": "markdown",
   "id": "13160ced-66cb-4672-a44c-1b591a28e760",
   "metadata": {},
   "source": [
    "Can we adapt our three models for market capitalization feature importance and prediction?"
   ]
  },
  {
   "cell_type": "code",
   "execution_count": 9,
   "id": "5ad3ba10-2e32-4610-b8ff-c7cdefe159c3",
   "metadata": {},
   "outputs": [
    {
     "name": "stdout",
     "output_type": "stream",
     "text": [
      "Requirement already satisfied: xgboost in c:\\users\\kevin\\anaconda3\\lib\\site-packages (3.0.0)\n",
      "Requirement already satisfied: numpy in c:\\users\\kevin\\anaconda3\\lib\\site-packages (from xgboost) (1.26.4)\n",
      "Requirement already satisfied: scipy in c:\\users\\kevin\\anaconda3\\lib\\site-packages (from xgboost) (1.13.1)\n",
      "Requirement already satisfied: lightgbm in c:\\users\\kevin\\anaconda3\\lib\\site-packages (4.6.0)\n",
      "Requirement already satisfied: numpy>=1.17.0 in c:\\users\\kevin\\anaconda3\\lib\\site-packages (from lightgbm) (1.26.4)\n",
      "Requirement already satisfied: scipy in c:\\users\\kevin\\anaconda3\\lib\\site-packages (from lightgbm) (1.13.1)\n",
      "Finished\n"
     ]
    }
   ],
   "source": [
    "#Import all libraries\n",
    "import pandas as pd\n",
    "import numpy as np\n",
    "import matplotlib.pyplot as plt\n",
    "import seaborn as sns\n",
    "from statsmodels.stats.outliers_influence import variance_inflation_factor\n",
    "import statsmodels.tools.tools as smt\n",
    "from sklearn.linear_model import LassoCV, LinearRegression, Lasso\n",
    "from sklearn.ensemble import RandomForestRegressor, RandomForestClassifier\n",
    "from sklearn.preprocessing import StandardScaler\n",
    "from sklearn.model_selection import train_test_split, GridSearchCV\n",
    "from sklearn.metrics import mean_squared_error, r2_score, confusion_matrix, classification_report, f1_score\n",
    "from sklearn.inspection import partial_dependence, PartialDependenceDisplay\n",
    "import xgboost as xgb \n",
    "from xgboost import XGBRegressor\n",
    "import lightgbm as lgb\n",
    "import warnings\n",
    "\n",
    "!pip install xgboost\n",
    "!pip install lightgbm\n",
    "\n",
    "print(\"Finished\")"
   ]
  },
  {
   "cell_type": "code",
   "execution_count": 2,
   "id": "2be018ce-b41d-4ae5-b35f-97f84ce7b177",
   "metadata": {},
   "outputs": [
    {
     "name": "stdout",
     "output_type": "stream",
     "text": [
      "DataFrame ready\n"
     ]
    }
   ],
   "source": [
    "#Convert csv to pandas dataframe \n",
    "file_path = \"Steel_Stage_5.csv\"\n",
    "df = pd.read_csv(file_path)\n",
    "\n",
    "print(\"DataFrame ready\")"
   ]
  },
  {
   "cell_type": "code",
   "execution_count": 3,
   "id": "ae78f9e2-16d0-4331-9658-09a7c0aeaea2",
   "metadata": {},
   "outputs": [],
   "source": [
    "#Define Input Attributes (This is a list of best-performing features in the upcoming Lasso and Random Forest models)\n",
    "Input_attributes = ['Sustainability_Investments_Million',                      \n",
    "'R&D_Expenditure_Million',                                 \n",
    "'Energy_Consumption_From_Renewables_Percent',             \n",
    "'Biodiversity_Specific_Investments_Per_Employee',          \n",
    "'Community_Engagement_Spending_Per_Employee',              \n",
    "'CO2_Emissions_Tonnes',                                   \n",
    "'GHG_Intensity_CO2_Equivalent_Emissions_Per_Ton_Steel']"
   ]
  },
  {
   "cell_type": "markdown",
   "id": "34ecd0df-74f4-4ba4-a7c9-6cd2ffbe595d",
   "metadata": {},
   "source": [
    "### Use VIF to determine multicollinearity and Lasso to define the most important features"
   ]
  },
  {
   "cell_type": "code",
   "execution_count": 4,
   "id": "7273c043-ab8d-4296-838a-94691cd16ad6",
   "metadata": {
    "scrolled": true
   },
   "outputs": [
    {
     "name": "stdout",
     "output_type": "stream",
     "text": [
      "\n",
      "VIF Scores:\n",
      "                                             Feature       VIF\n",
      "0                 Sustainability_Investments_Million  2.983517\n",
      "3     Biodiversity_Specific_Investments_Per_Employee  2.811144\n",
      "4         Community_Engagement_Spending_Per_Employee  1.903271\n",
      "6  GHG_Intensity_CO2_Equivalent_Emissions_Per_Ton...  1.890961\n",
      "2         Energy_Consumption_From_Renewables_Percent  1.771226\n",
      "5                               CO2_Emissions_Tonnes  1.747254\n",
      "1                            R&D_Expenditure_Million  1.552616\n"
     ]
    }
   ],
   "source": [
    "#Assign Independent and Dependent Variables\n",
    "X = df[Input_attributes].copy()\n",
    "y = df['Market_Capitalization_Million']\n",
    "\n",
    "#Standardize the data and use VIF to Check for multicollinearity\n",
    "scaler = StandardScaler()\n",
    "X_scaled = scaler.fit_transform(X)\n",
    "vif_data = pd.DataFrame()\n",
    "vif_data['Feature'] = X.columns\n",
    "vif_data['VIF'] = [variance_inflation_factor(X_scaled, i) for i in range(X_scaled.shape[1])]\n",
    "print(\"\\nVIF Scores:\")\n",
    "print(vif_data.sort_values('VIF', ascending=False))"
   ]
  },
  {
   "cell_type": "markdown",
   "id": "742f5938-920a-404b-bce5-29259be1d40f",
   "metadata": {},
   "source": [
    "Note: Significant multicollinearity issues were present in the initial VIF scores (>10) across many ESG attributes. To resolve this and reduce dimensionality, the revised list was developed through an iterative approach using VIF scoring and Lasso scoring (below)."
   ]
  },
  {
   "cell_type": "code",
   "execution_count": 5,
   "id": "199ebd51-b788-4d25-b3aa-4db0a5fddc7c",
   "metadata": {},
   "outputs": [
    {
     "name": "stdout",
     "output_type": "stream",
     "text": [
      "\n",
      "Lasso Feature Importances:\n",
      "Energy_Consumption_From_Renewables_Percent              768.928568\n",
      "R&D_Expenditure_Million                                 634.304343\n",
      "Sustainability_Investments_Million                      501.796480\n",
      "Biodiversity_Specific_Investments_Per_Employee          326.476467\n",
      "Community_Engagement_Spending_Per_Employee              262.798013\n",
      "GHG_Intensity_CO2_Equivalent_Emissions_Per_Ton_Steel   -406.064086\n",
      "CO2_Emissions_Tonnes                                   -466.318772\n",
      "dtype: float64\n"
     ]
    }
   ],
   "source": [
    "#Lasso Feature Selection: Tune hyperparameters to determine attributes with non-zero coefficients to reduce dimensionality, prevent overfitting, and improve generalization\n",
    "lasso = LassoCV(cv=5, random_state=0, max_iter=10000).fit(X_scaled, y)\n",
    "coef_df = pd.Series(lasso.coef_, index=X.columns)\n",
    "\n",
    "#Select Features\n",
    "selected_features_with_scores = coef_df[coef_df != 0].sort_values(ascending=False)\n",
    "selected_features_lasso = selected_features_with_scores.index.tolist()\n",
    "\n",
    "print(\"\\nLasso Feature Importances:\")\n",
    "print(selected_features_with_scores)"
   ]
  },
  {
   "cell_type": "markdown",
   "id": "9d8a5b05-0aa2-40d3-aa56-def6cb3c1b2e",
   "metadata": {},
   "source": [
    "Note: Lasso identified renewable energy consumption, R&D spending, and sustainability investments as the three most influential features."
   ]
  },
  {
   "cell_type": "markdown",
   "id": "016f9c7e-77c3-40b8-93ff-65dcaf0d1a21",
   "metadata": {},
   "source": [
    "### Develop a baseline linear regression model using Lasso"
   ]
  },
  {
   "cell_type": "code",
   "execution_count": 6,
   "id": "7efb5f65-dccb-4b26-a5ee-65a90fc9b91a",
   "metadata": {},
   "outputs": [
    {
     "name": "stdout",
     "output_type": "stream",
     "text": [
      "Fitting 3 folds for each of 5 candidates, totalling 15 fits\n",
      "Best hyperparameters: {'alpha': 1.0}\n",
      "Mean Squared Error: 6844750.25\n",
      "R-squared: 0.4824\n"
     ]
    }
   ],
   "source": [
    "#Split into testing and training sets using the selected features\n",
    "X_train, X_test, y_train, y_test = train_test_split(X[selected_features_lasso], y, test_size=0.2, random_state=42)\n",
    "\n",
    "#Create Lasso model\n",
    "lasso = Lasso(random_state=42)\n",
    "\n",
    "#Define tuning parameters\n",
    "param_grid_lasso = {\n",
    "    'alpha': np.logspace(-4, 0, 5)}  \n",
    "\n",
    "#Set up GridSearchCV for hyperparameter tuning\n",
    "grid_search_lasso = GridSearchCV(estimator=lasso,\n",
    "                                 param_grid=param_grid_lasso,\n",
    "                                 scoring='neg_mean_squared_error',\n",
    "                                 cv=3,\n",
    "                                 verbose=2,\n",
    "                                 n_jobs=-1)\n",
    "\n",
    "#GridSearchCV to find the best hyperparameters\n",
    "grid_search_lasso.fit(X_train, y_train)\n",
    "\n",
    "#Best Lasso model and parameters\n",
    "best_lasso = grid_search_lasso.best_estimator_\n",
    "print(\"Best hyperparameters:\", grid_search_lasso.best_params_)\n",
    "\n",
    "#Make predictions using test data\n",
    "y_pred_lasso = best_lasso.predict(X_test)\n",
    "\n",
    "#Evaluate outcomes\n",
    "mse_lasso = mean_squared_error(y_test, y_pred_lasso)\n",
    "print(f\"Mean Squared Error: {mse_lasso:.2f}\")\n",
    "\n",
    "r2_lasso = r2_score(y_test, y_pred_lasso)\n",
    "print(f\"R-squared: {r2_lasso:.4f}\")"
   ]
  },
  {
   "cell_type": "markdown",
   "id": "35749be1-8260-4284-800f-b2d9eb44734f",
   "metadata": {},
   "source": [
    "Note: Moving from regression to classification, the Lasso model explained roughly 48% of the variance in ESG scores. This means the model does not explain over half the variability in the data, which is an important detail. We should see if Lasso can predict whether a company's market cap falls above (High) or below (Low) the industry mean using the selected ESG attributes."
   ]
  },
  {
   "cell_type": "code",
   "execution_count": 7,
   "id": "64e3fd44-ff24-4a13-b492-543ed7e8764f",
   "metadata": {},
   "outputs": [
    {
     "name": "stdout",
     "output_type": "stream",
     "text": [
      "\n",
      "Market Cap Classification Report - Lasso:\n",
      "              precision    recall  f1-score   support\n",
      "\n",
      "         Low       0.71      0.83      0.77         6\n",
      "        High       0.80      0.67      0.73         6\n",
      "\n",
      "    accuracy                           0.75        12\n",
      "   macro avg       0.76      0.75      0.75        12\n",
      "weighted avg       0.76      0.75      0.75        12\n",
      "\n"
     ]
    },
    {
     "data": {
      "image/png": "[encoded data removed]",
      "text/plain": [
       "<Figure size 800x600 with 2 Axes>"
      ]
     },
     "metadata": {},
     "output_type": "display_data"
    }
   ],
   "source": [
    "#Convert continuous predictions to categories\n",
    "threshold = np.mean(y_test)\n",
    "\n",
    "#Assign values to categorical labels\n",
    "y_pred_categorical_lasso = ['High' if val > threshold else 'Low' for val in y_pred_lasso]\n",
    "y_true_categorical = ['High' if val > threshold else 'Low' for val in y_test]\n",
    "\n",
    "#Classification report\n",
    "print(\"\\nMarket Cap Classification Report - Lasso:\")\n",
    "print(classification_report(y_true_categorical, y_pred_categorical_lasso, labels=['Low', 'High']))\n",
    "\n",
    "#Confusion matrix\n",
    "cm_lasso = confusion_matrix(y_true_categorical, y_pred_categorical_lasso, labels=['Low', 'High'])\n",
    "\n",
    "plt.figure(figsize=(8, 6))\n",
    "sns.heatmap(cm_lasso, annot=True, fmt='d', cmap='Greens',\n",
    "            xticklabels=['Predicted Low', 'Predicted High'],\n",
    "            yticklabels=['Actual Low', 'Actual High'])\n",
    "plt.title('Market Cap Confusion Matrix - Lasso')\n",
    "plt.show()"
   ]
  },
  {
   "cell_type": "markdown",
   "id": "ab38b8d5-2db3-4ae5-acb1-ca59bdfd3061",
   "metadata": {},
   "source": [
    "Note: The linear model accurately predicted whether market cap would be above or below the industry mean in 9 out of 12 cases, based on the assigned important ESG attributes. The F1 score: 75%."
   ]
  },
  {
   "cell_type": "markdown",
   "id": "6a976e22-80d1-42e3-bc62-d21227fc4a91",
   "metadata": {},
   "source": [
    "## Build a non-linear tree based model using Random Forest"
   ]
  },
  {
   "cell_type": "code",
   "execution_count": 10,
   "id": "44e2e646-c866-44dc-b56a-2d557c96cb9f",
   "metadata": {},
   "outputs": [
    {
     "name": "stdout",
     "output_type": "stream",
     "text": [
      "Fitting 3 folds for each of 162 candidates, totalling 486 fits\n",
      "Best hyperparameters: {'max_depth': None, 'max_features': 'sqrt', 'min_samples_leaf': 5, 'min_samples_split': 2, 'n_estimators': 300}\n",
      "\n",
      "Random Forest Feature Importances:\n",
      "Sustainability_Investments_Million                      0.276512\n",
      "R&D_Expenditure_Million                                 0.249448\n",
      "Energy_Consumption_From_Renewables_Percent              0.215587\n",
      "GHG_Intensity_CO2_Equivalent_Emissions_Per_Ton_Steel    0.152578\n",
      "CO2_Emissions_Tonnes                                    0.066838\n",
      "Biodiversity_Specific_Investments_Per_Employee          0.039038\n",
      "Community_Engagement_Spending_Per_Employee              0.000000\n",
      "dtype: float64\n",
      "\n",
      "MSE: 7272990.68\n",
      "R²: 0.4500\n"
     ]
    }
   ],
   "source": [
    "param_grid = {\n",
    "    'n_estimators': [100, 200, 300],\n",
    "    'max_depth': [None, 5, 10],\n",
    "    'min_samples_split': [2, 5, 10],\n",
    "    'min_samples_leaf': [1, 3, 5],\n",
    "    'max_features': ['sqrt', 'log2']}\n",
    "\n",
    "rf = RandomForestRegressor(random_state=42)\n",
    "grid_search = GridSearchCV(estimator=rf, param_grid=param_grid, cv=3, scoring='neg_mean_squared_error', verbose=2, n_jobs=-1)\n",
    "grid_search.fit(X_train, y_train)\n",
    "\n",
    "print(\"Best hyperparameters:\", grid_search.best_params_)\n",
    "best_rf = grid_search.best_estimator_\n",
    "\n",
    "importances = pd.Series(best_rf.feature_importances_, index=selected_features_lasso)\n",
    "importances = importances.sort_values(ascending=False)\n",
    "print(\"\\nRandom Forest Feature Importances:\")\n",
    "print(importances)\n",
    "\n",
    "y_pred_rf = best_rf.predict(X_test) \n",
    "mse = mean_squared_error(y_test, y_pred_rf)\n",
    "r2 = r2_score(y_test, y_pred_rf)\n",
    "\n",
    "print(f\"\\nMSE: {mse:.2f}\")\n",
    "print(f\"R²: {r2:.4f}\")\n",
    "\n",
    "#Ignore runtime warning\n",
    "warnings.filterwarnings(\"ignore\")"
   ]
  },
  {
   "cell_type": "markdown",
   "id": "9ada2bde-bcc9-469a-8ac7-878627ac33b2",
   "metadata": {},
   "source": [
    "Note: Both Lasso and Random Forest deemed sustainability investments, R&D spending, and renewable energy consumption as the most important features."
   ]
  },
  {
   "cell_type": "code",
   "execution_count": 11,
   "id": "ea68c138-03c1-43e6-b131-e53d8445bca5",
   "metadata": {},
   "outputs": [
    {
     "name": "stdout",
     "output_type": "stream",
     "text": [
      "\n",
      "Market Cap Classification Report - Random Forest:\n",
      "              precision    recall  f1-score   support\n",
      "\n",
      "        High       1.00      0.67      0.80         6\n",
      "         Low       0.75      1.00      0.86         6\n",
      "\n",
      "    accuracy                           0.83        12\n",
      "   macro avg       0.88      0.83      0.83        12\n",
      "weighted avg       0.88      0.83      0.83        12\n",
      "\n"
     ]
    },
    {
     "data": {
      "image/png": "[encoded data removed]",
      "text/plain": [
       "<Figure size 800x600 with 2 Axes>"
      ]
     },
     "metadata": {},
     "output_type": "display_data"
    }
   ],
   "source": [
    "y_pred_category = ['High' if val > y_test.mean() else 'Low' for val in y_pred_rf]\n",
    "y_test_category = ['High' if val > y_test.mean() else 'Low' for val in y_test]\n",
    "\n",
    "class_report = classification_report(y_test_category, y_pred_category) \n",
    "print(\"\\nMarket Cap Classification Report - Random Forest:\")\n",
    "print(class_report)\n",
    "\n",
    "conf_matrix = confusion_matrix(y_test_category, y_pred_category)\n",
    "\n",
    "plt.figure(figsize=(8, 6))\n",
    "sns.heatmap(conf_matrix, annot=True, fmt='d', cmap='Greens', \n",
    "            xticklabels=['Predicted Low', 'Predicted High'], yticklabels=['Actual Low', 'Actual High'])\n",
    "plt.title('Market Cap Confusion Matrix - Random Forest')\n",
    "plt.show()"
   ]
  },
  {
   "cell_type": "markdown",
   "id": "390f8cba-7da7-4c38-8e5b-a9c920e0fffa",
   "metadata": {},
   "source": [
    "Note: Random Forest predicted 10 out of 12 outcomes correctly, showing an increase in F1 score (83%). However, the model only explained 45% of the variance, a slight decrease compared to Lasso."
   ]
  },
  {
   "cell_type": "markdown",
   "id": "b5403fdd-f998-46f7-8f12-a19779bb2853",
   "metadata": {},
   "source": [
    "## Develop a gradient boosting model using XGBoost"
   ]
  },
  {
   "cell_type": "markdown",
   "id": "7af839dc-e661-48e2-95b6-1f954a1be458",
   "metadata": {},
   "source": [
    "XGBoost often surpasses Random Forest in accuracy and generalization due to its gradient boosting framework. Its unique feature selection capabilities make it suitable for training on the entire ESG dataset to evaluate its performance."
   ]
  },
  {
   "cell_type": "code",
   "execution_count": 12,
   "id": "1fd9de6c-7d74-4ab8-87f5-c0a680490dea",
   "metadata": {},
   "outputs": [],
   "source": [
    "#Use all attributes\n",
    "XGBoost_attributes = ['R&D_Expenditure_Million',\n",
    "    'Sustainability_Investments_Million',\n",
    "    'Sustainability_Investments_Per_Employee',\n",
    "    'Biodiversity_Specific_Investments_Million',\n",
    "    'Biodiversity_Specific_Investments_Per_Employee',\n",
    "    'Community_Engagement_Spending_Million',\n",
    "    'Community_Engagement_Spending_Per_Employee',\n",
    "    'Total_Energy_Consumption_MWh',\n",
    "    'Energy_Intensity_kWh_Per_Ton_Steel',\n",
    "    'Energy_Consumption_From_Renewables_Percent',\n",
    "    'Recycled_Steel_Used_Percent',\n",
    "    'Total_Water_Usage_Megaliter',\n",
    "    'Water_Recycled_Percent',\n",
    "    'Water_Intensity_Kiloliter_Per_Ton_Steel',\n",
    "    'Waste_Recycled_Percent',\n",
    "    'CO2_Emissions_Tonnes',\n",
    "    'NOx_Emissions_Tonnes',\n",
    "    'SOx_Emissions_Tonnes',  \n",
    "    'Total_CO2_Equivalent_Emission_Tonnes',\n",
    "    'Scope1_CO2_Equivalent_Emissions_Tonnes',\n",
    "    'Scope2_CO2_Equivalent_Emissions_Tonnes',\n",
    "    'Scope3_CO2_Equivalent_Emissions_Tonnes',\n",
    "    'GHG_Intensity_CO2_Equivalent_Emissions_Per_Ton_Steel',\n",
    "    'Regulation_Noncompliance_Air_And_Water_Incidents',\n",
    "    'Employee_Turnover_Rate_Percent',\n",
    "    'Employee_Training_Hours_Per_Employee',\n",
    "    'Median_Employee_Pay_Nonexecutive',\n",
    "    'Injury_Rate_Per_100_Employees',\n",
    "    'Significant_Accidents_Count',\n",
    "    'Female_Workforce_Percent',\n",
    "    'Minority_Workforce_Percent',\n",
    "    'Veteran_Workforce_Percent',\n",
    "    'Disabled_Workforce_Percent',\n",
    "    'Community_Volunteer_Hours_Per_Employee',\n",
    "    'Board_Independence_Percent',\n",
    "    'Board_Percent_Female',\n",
    "    'Board_Percent_Minority',\n",
    "    'Board_Age_Avg',\n",
    "    'Anti_Corruption_Incidents',\n",
    "    'Whistleblower_Cases']\n",
    "X = df[XGBoost_attributes].copy()"
   ]
  },
  {
   "cell_type": "code",
   "execution_count": 13,
   "id": "19b5c022-b0f8-475b-a580-664f6ff25449",
   "metadata": {},
   "outputs": [
    {
     "name": "stdout",
     "output_type": "stream",
     "text": [
      "Fitting 3 folds for each of 8748 candidates, totalling 26244 fits\n",
      "\n",
      "Best hyperparameters: {'colsample_bytree': 0.7, 'gamma': 0, 'learning_rate': 0.01, 'max_depth': 3, 'n_estimators': 100, 'reg_alpha': 0.1, 'reg_lambda': 0.1, 'subsample': 0.7}\n",
      "\n",
      "XGBoost Feature Importances:\n",
      "Disabled_Workforce_Percent                              0.069022\n",
      "Veteran_Workforce_Percent                               0.058601\n",
      "Total_CO2_Equivalent_Emission_Tonnes                    0.051577\n",
      "Community_Engagement_Spending_Million                   0.043538\n",
      "CO2_Emissions_Tonnes                                    0.043523\n",
      "Sustainability_Investments_Million                      0.043054\n",
      "Scope1_CO2_Equivalent_Emissions_Tonnes                  0.041178\n",
      "Recycled_Steel_Used_Percent                             0.038371\n",
      "Water_Intensity_Kiloliter_Per_Ton_Steel                 0.037892\n",
      "Biodiversity_Specific_Investments_Million               0.037471\n",
      "Regulation_Noncompliance_Air_And_Water_Incidents        0.036146\n",
      "Energy_Consumption_From_Renewables_Percent              0.034327\n",
      "GHG_Intensity_CO2_Equivalent_Emissions_Per_Ton_Steel    0.033342\n",
      "SOx_Emissions_Tonnes                                    0.028676\n",
      "Board_Percent_Female                                    0.027405\n",
      "Energy_Intensity_kWh_Per_Ton_Steel                      0.026889\n",
      "Minority_Workforce_Percent                              0.026442\n",
      "Board_Independence_Percent                              0.026417\n",
      "Board_Age_Avg                                           0.025683\n",
      "Employee_Training_Hours_Per_Employee                    0.024887\n",
      "Employee_Turnover_Rate_Percent                          0.024678\n",
      "Significant_Accidents_Count                             0.021141\n",
      "Scope3_CO2_Equivalent_Emissions_Tonnes                  0.019588\n",
      "R&D_Expenditure_Million                                 0.018367\n",
      "Waste_Recycled_Percent                                  0.017994\n",
      "Water_Recycled_Percent                                  0.016606\n",
      "Biodiversity_Specific_Investments_Per_Employee          0.014873\n",
      "NOx_Emissions_Tonnes                                    0.014797\n",
      "Board_Percent_Minority                                  0.014711\n",
      "Median_Employee_Pay_Nonexecutive                        0.014354\n",
      "Injury_Rate_Per_100_Employees                           0.014044\n",
      "Female_Workforce_Percent                                0.011906\n",
      "Community_Volunteer_Hours_Per_Employee                  0.010757\n",
      "Total_Water_Usage_Megaliter                             0.009755\n",
      "Total_Energy_Consumption_MWh                            0.009386\n",
      "Scope2_CO2_Equivalent_Emissions_Tonnes                  0.008554\n",
      "Sustainability_Investments_Per_Employee                 0.004047\n",
      "Community_Engagement_Spending_Per_Employee              0.000000\n",
      "Anti_Corruption_Incidents                               0.000000\n",
      "Whistleblower_Cases                                     0.000000\n",
      "dtype: float32\n",
      "\n",
      "MSE: 11621094.43\n",
      "R²: 0.1212\n"
     ]
    }
   ],
   "source": [
    "X_train, X_test, y_train, y_test = train_test_split(X, y, test_size=0.2, random_state=42)\n",
    "\n",
    "scaler = StandardScaler()\n",
    "X_train_scaled = scaler.fit_transform(X_train)\n",
    "X_test_scaled = scaler.transform(X_test)\n",
    "\n",
    "xgb = XGBRegressor(objective='reg:squarederror',\n",
    "                    random_state=42,\n",
    "                    early_stopping_rounds=50)\n",
    "\n",
    "param_grid_xgb = {\n",
    "    'n_estimators': [100, 300, 500],\n",
    "    'learning_rate': [0.01, 0.03, 0.05, 0.1],\n",
    "    'max_depth': [3, 5, 7],\n",
    "    'subsample': [0.7, 0.8, 0.9],\n",
    "    'colsample_bytree': [0.7, 0.8, 0.9],\n",
    "    'gamma': [0, 0.1, 0.2],\n",
    "    'reg_alpha': [0, 0.01, 0.1],\n",
    "    'reg_lambda': [0, 0.01, 0.1]}\n",
    "\n",
    "grid_search_xgb = GridSearchCV(estimator=xgb,\n",
    "                                param_grid=param_grid_xgb,\n",
    "                                scoring='neg_mean_squared_error',\n",
    "                                cv=3,\n",
    "                                verbose=2,\n",
    "                                n_jobs=-1)\n",
    "\n",
    "grid_search_xgb.fit(X_train_scaled, y_train,\n",
    "                     eval_set=[(X_test_scaled, y_test)],\n",
    "                     verbose=False)\n",
    "\n",
    "best_xgb = grid_search_xgb.best_estimator_\n",
    "print(\"\\nBest hyperparameters:\", grid_search_xgb.best_params_)\n",
    "\n",
    "y_pred_xgb1 = best_xgb.predict(X_test_scaled)\n",
    "mse_xgb1 = mean_squared_error(y_test, y_pred_xgb1)\n",
    "r2_xgb1 = r2_score(y_test, y_pred_xgb1)\n",
    "\n",
    "feature_importances_xgb = pd.Series(best_xgb.feature_importances_, index=XGBoost_attributes)\n",
    "feature_importances_xgb = feature_importances_xgb.sort_values(ascending=False)\n",
    "print(\"\\nXGBoost Feature Importances:\")\n",
    "print(feature_importances_xgb)\n",
    "\n",
    "print(f\"\\nMSE: {mse_xgb1:.2f}\")\n",
    "print(f\"R²: {r2_xgb1:.4f}\")"
   ]
  },
  {
   "cell_type": "markdown",
   "id": "008e5888-b036-48b9-a015-48d74538f949",
   "metadata": {},
   "source": [
    "Note: XGB determined that disabled workforce, veteran workforce, and total emissions were most important. However, the model only explained 12% of market cap variance, indicating that we are missing major factors.    "
   ]
  },
  {
   "cell_type": "code",
   "execution_count": 14,
   "id": "08bd9b5f-ff26-4ba2-b4a3-fe2cfea68385",
   "metadata": {},
   "outputs": [
    {
     "name": "stdout",
     "output_type": "stream",
     "text": [
      "\n",
      "Market Cap Classification Report - XGB:\n",
      "              precision    recall  f1-score   support\n",
      "\n",
      "        High       1.00      0.17      0.29         6\n",
      "         Low       0.55      1.00      0.71         6\n",
      "\n",
      "    accuracy                           0.58        12\n",
      "   macro avg       0.77      0.58      0.50        12\n",
      "weighted avg       0.77      0.58      0.50        12\n",
      "\n"
     ]
    },
    {
     "data": {
      "image/png": "[encoded data removed]",
      "text/plain": [
       "<Figure size 800x600 with 2 Axes>"
      ]
     },
     "metadata": {},
     "output_type": "display_data"
    }
   ],
   "source": [
    "y_pred_category = ['High' if val > y_test.mean() else 'Low' for val in y_pred_xgb1]\n",
    "y_test_category = ['High' if val > y_test.mean() else 'Low' for val in y_test]\n",
    "\n",
    "# Classification Report\n",
    "class_report = classification_report(y_test_category, y_pred_category)\n",
    "print(\"\\nMarket Cap Classification Report - XGB:\")\n",
    "print(class_report)\n",
    "\n",
    "# Confusion Matrix\n",
    "conf_matrix = confusion_matrix(y_test_category, y_pred_category)\n",
    "plt.figure(figsize=(8, 6))\n",
    "sns.heatmap(conf_matrix, annot=True, fmt='d', cmap='Greens',\n",
    "            xticklabels=['Predicted Low', 'Predicted High'], yticklabels=['Actual Low', 'Actual High'])\n",
    "plt.title('Market Cap Confusion Matrix - XGB')\n",
    "plt.show()"
   ]
  },
  {
   "cell_type": "markdown",
   "id": "43cf92a5-70b0-4d04-8f34-3647205938cb",
   "metadata": {},
   "source": [
    "### Next, we will train an XGBoost model using only the features selected by Lasso for comparison"
   ]
  },
  {
   "cell_type": "code",
   "execution_count": 15,
   "id": "b1dfbc52-8855-4538-bf5d-e55ed85056dd",
   "metadata": {},
   "outputs": [
    {
     "name": "stdout",
     "output_type": "stream",
     "text": [
      "Fitting 3 folds for each of 8748 candidates, totalling 26244 fits\n",
      "\n",
      "Best hyperparameters: {'colsample_bytree': 0.7, 'gamma': 0, 'learning_rate': 0.01, 'max_depth': 3, 'n_estimators': 100, 'reg_alpha': 0, 'reg_lambda': 0.1, 'subsample': 0.7}\n",
      "\n",
      "XGBoost Feature Importances:\n",
      "Biodiversity_Specific_Investments_Per_Employee          0.243746\n",
      "Sustainability_Investments_Million                      0.189318\n",
      "CO2_Emissions_Tonnes                                    0.173841\n",
      "R&D_Expenditure_Million                                 0.129948\n",
      "Energy_Consumption_From_Renewables_Percent              0.115947\n",
      "GHG_Intensity_CO2_Equivalent_Emissions_Per_Ton_Steel    0.113041\n",
      "Community_Engagement_Spending_Per_Employee              0.034159\n",
      "dtype: float32\n",
      "\n",
      "MSE: 9821121.63\n",
      "R²: 0.2573\n"
     ]
    }
   ],
   "source": [
    "X_train, X_test, y_train, y_test = train_test_split(X[selected_features_lasso], y, test_size=0.2, random_state=42)\n",
    "\n",
    "scaler = StandardScaler()\n",
    "X_train_scaled = scaler.fit_transform(X_train)\n",
    "X_test_scaled = scaler.transform(X_test)\n",
    "\n",
    "xgb = XGBRegressor(objective='reg:squarederror',\n",
    "                     random_state=42,\n",
    "                     early_stopping_rounds=50)  \n",
    "\n",
    "param_grid_xgb = {\n",
    "    'n_estimators': [100, 300, 500],\n",
    "    'learning_rate': [0.01, 0.03, 0.05, 0.1],\n",
    "    'max_depth': [3, 5, 7],\n",
    "    'subsample': [0.7, 0.8, 0.9],\n",
    "    'colsample_bytree': [0.7, 0.8, 0.9],\n",
    "    'gamma': [0, 0.1, 0.2],\n",
    "    'reg_alpha': [0, 0.01, 0.1],\n",
    "    'reg_lambda': [0, 0.01, 0.1]\n",
    "}\n",
    "\n",
    "grid_search_xgb = GridSearchCV(estimator=xgb,\n",
    "                               param_grid=param_grid_xgb,\n",
    "                               scoring='neg_mean_squared_error',\n",
    "                               cv=3,\n",
    "                               verbose=2,\n",
    "                               n_jobs=-1)\n",
    "\n",
    "grid_search_xgb.fit(X_train_scaled, y_train,\n",
    "                    eval_set=[(X_test_scaled, y_test)],\n",
    "                    verbose=False)\n",
    "\n",
    "best_xgb = grid_search_xgb.best_estimator_\n",
    "print(\"\\nBest hyperparameters:\", grid_search_xgb.best_params_)\n",
    "\n",
    "y_pred_xgb2 = best_xgb.predict(X_test_scaled)\n",
    "mse_xgb2 = mean_squared_error(y_test, y_pred_xgb2)\n",
    "r2_xgb2 = r2_score(y_test, y_pred_xgb2)\n",
    "\n",
    "feature_importances_xgb = pd.Series(best_xgb.feature_importances_, index=selected_features_lasso)\n",
    "feature_importances_xgb = feature_importances_xgb.sort_values(ascending=False)\n",
    "print(\"\\nXGBoost Feature Importances:\")\n",
    "print(feature_importances_xgb)\n",
    "\n",
    "print(f\"\\nMSE: {mse_xgb2:.2f}\")\n",
    "print(f\"R²: {r2_xgb2:.4f}\")"
   ]
  },
  {
   "cell_type": "code",
   "execution_count": 16,
   "id": "1003e651-dbd7-415f-909e-b83cb6584126",
   "metadata": {},
   "outputs": [
    {
     "name": "stdout",
     "output_type": "stream",
     "text": [
      "\n",
      "Market Cap Classification Report - XGB (Lasso Features):\n",
      "              precision    recall  f1-score   support\n",
      "\n",
      "        High       0.67      0.33      0.44         6\n",
      "         Low       0.56      0.83      0.67         6\n",
      "\n",
      "    accuracy                           0.58        12\n",
      "   macro avg       0.61      0.58      0.56        12\n",
      "weighted avg       0.61      0.58      0.56        12\n",
      "\n"
     ]
    },
    {
     "data": {
      "image/png": "[encoded data removed]",
      "text/plain": [
       "<Figure size 800x600 with 2 Axes>"
      ]
     },
     "metadata": {},
     "output_type": "display_data"
    }
   ],
   "source": [
    "y_pred_category = ['High' if val > y_test.mean() else 'Low' for val in y_pred_xgb2]\n",
    "y_test_category = ['High' if val > y_test.mean() else 'Low' for val in y_test]\n",
    "\n",
    "class_report = classification_report(y_test_category, y_pred_category) \n",
    "print(\"\\nMarket Cap Classification Report - XGB (Lasso Features):\")\n",
    "print(class_report)\n",
    "\n",
    "conf_matrix = confusion_matrix(y_test_category, y_pred_category)\n",
    "plt.figure(figsize=(8, 6))\n",
    "sns.heatmap(conf_matrix, annot=True, fmt='d', cmap='Greens',\n",
    "            xticklabels=['Predicted Low', 'Predicted High'], yticklabels=['Actual Low', 'Actual High'])\n",
    "plt.title('Market Cap Confusion Matrix - XGB (Lasso Features)')\n",
    "plt.show()"
   ]
  },
  {
   "cell_type": "markdown",
   "id": "f1513eed-1506-4f2d-82d4-c1bae67717bb",
   "metadata": {},
   "source": [
    "Note: XGB showed subpar performance in general (R-squared of 25% and below, F1 score: 58%)."
   ]
  },
  {
   "cell_type": "markdown",
   "id": "91d3a479-baf0-4005-b052-74f218dafa39",
   "metadata": {},
   "source": [
    "### We are now ready to provide key insights in the next section!"
   ]
  },
  {
   "cell_type": "markdown",
   "id": "f5696579-e3eb-416f-ac08-2e453b5883af",
   "metadata": {},
   "source": [
    "Note: While Random Forest showed relatively strong performance in predicting market capitalization, overall model accuracy was noteably lower compared to revenue and ESG score outcomes. The majority of the variability remained unexplained by each model. This suggests that our dataset lacks important features relevant to market capitalization, such as consumer confidence."
   ]
  },
  {
   "cell_type": "markdown",
   "id": "6521364a-70a0-4beb-ba80-841cad0a175e",
   "metadata": {},
   "source": [
    "<br>\n",
    "Author: Kevin Pordon - MBA"
   ]
  },
  {
   "cell_type": "code",
   "execution_count": null,
   "id": "7aa44391-580d-46d2-97d2-45141f58ad5a",
   "metadata": {},
   "outputs": [],
   "source": []
  }
 ],
 "metadata": {
  "kernelspec": {
   "display_name": "Python 3 (ipykernel)",
   "language": "python",
   "name": "python3"
  },
  "language_info": {
   "codemirror_mode": {
    "name": "ipython",
    "version": 3
   },
   "file_extension": ".py",
   "mimetype": "text/x-python",
   "name": "python",
   "nbconvert_exporter": "python",
   "pygments_lexer": "ipython3",
   "version": "3.12.7"
  }
 },
 "nbformat": 4,
 "nbformat_minor": 5
}
