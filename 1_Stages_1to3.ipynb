{
 "cells": [
  {
   "cell_type": "markdown",
   "id": "8a4360cc-6ed4-49cb-ad8f-da7f7ed5fa9f",
   "metadata": {},
   "source": [
    "##  Steel Dynamics Sustainability: Executive Level Benchmarking & Future Strategies"
   ]
  },
  {
   "cell_type": "markdown",
   "id": "19f30ff2-845a-4f97-82d3-3f1dccfbba79",
   "metadata": {},
   "source": [
    "## Stage 1. Problem Definition and Business Understanding"
   ]
  },
  {
   "cell_type": "markdown",
   "id": "1289681a-bb4c-4c94-8d0b-b942324e9879",
   "metadata": {},
   "source": [
    "The Steel Dynamics board seeks to enhance their environmental, social, and governance (ESG) performance and manage risks. They need insights on: (1) their current ranking within the U.S. steel industry, (2) which key performance indicators (KPIs) will deliver the most tangible and intangible benefits, and (3) requirements for becoming a leader in the industry. As a data-driven problem solver specializing in sustainability, you will provide detailed insights to guide leadership decisions."
   ]
  },
  {
   "cell_type": "markdown",
   "id": "973a580e-b899-4beb-b1f5-982d172c5e73",
   "metadata": {},
   "source": [
    "## Stage 2. Data Aquisition"
   ]
  },
  {
   "cell_type": "markdown",
   "id": "144d1793-d175-41fa-98b4-18405daca5ac",
   "metadata": {},
   "source": [
    "This project utilizes a comprehensive synthetic dataset for the steel industry, including ESG and financial attributes for four major steel companies (Nucor, US Steel, Cleveland Cliffs, and Steel Dynamics) over a 15-year period from 2010 to 2024. It is available in this Jupyter Lab environment. Use: Datasets/Steel_Industry_Data.csv  "
   ]
  },
  {
   "cell_type": "code",
   "execution_count": 1,
   "id": "c7908e5e-2179-46eb-8c44-00a97d7c49c3",
   "metadata": {},
   "outputs": [
    {
     "name": "stdout",
     "output_type": "stream",
     "text": [
      "Finished\n"
     ]
    }
   ],
   "source": [
    "#Import all libraries\n",
    "import pandas as pd\n",
    "import numpy as np\n",
    "import warnings\n",
    "\n",
    "warnings.filterwarnings('ignore', category=FutureWarning)\n",
    "\n",
    "import matplotlib.pyplot as plt\n",
    "import seaborn as sns\n",
    "from statsmodels.stats.outliers_influence import variance_inflation_factor\n",
    "import statsmodels.tools.tools as smt\n",
    "from sklearn.linear_model import LassoCV\n",
    "from sklearn.ensemble import RandomForestRegressor\n",
    "from sklearn.preprocessing import StandardScaler\n",
    "from sklearn.model_selection import train_test_split\n",
    "from sklearn.metrics import mean_squared_error\n",
    "from sklearn.metrics import r2_score\n",
    "from sklearn.metrics import confusion_matrix, classification_report\n",
    "from sklearn.model_selection import train_test_split, GridSearchCV\n",
    "from sklearn.linear_model import LinearRegression\n",
    "\n",
    "print(\"Finished\")"
   ]
  },
  {
   "cell_type": "code",
   "execution_count": 2,
   "id": "357a338a-2cb8-4156-a49e-0b6dfd149e9f",
   "metadata": {},
   "outputs": [
    {
     "name": "stdout",
     "output_type": "stream",
     "text": [
      "DataFrame ready\n"
     ]
    }
   ],
   "source": [
    "#Convert csv to pandas dataframe \n",
    "file_path = \"Steel_Stage_2.csv\"\n",
    "df = pd.read_csv(file_path)\n",
    "\n",
    "print(\"DataFrame ready\")"
   ]
  },
  {
   "cell_type": "code",
   "execution_count": 3,
   "id": "adb91e90-8290-4390-b8ad-4cc0b03fb23f",
   "metadata": {},
   "outputs": [
    {
     "data": {
      "text/html": [
       "<div>\n",
       "<style scoped>\n",
       "    .dataframe tbody tr th:only-of-type {\n",
       "        vertical-align: middle;\n",
       "    }\n",
       "\n",
       "    .dataframe tbody tr th {\n",
       "        vertical-align: top;\n",
       "    }\n",
       "\n",
       "    .dataframe thead th {\n",
       "        text-align: right;\n",
       "    }\n",
       "</style>\n",
       "<table border=\"1\" class=\"dataframe\">\n",
       "  <thead>\n",
       "    <tr style=\"text-align: right;\">\n",
       "      <th></th>\n",
       "      <th>Company</th>\n",
       "      <th>Year</th>\n",
       "      <th>Revenue_Million</th>\n",
       "      <th>Operating_Costs_Million</th>\n",
       "      <th>Net_Income_Million</th>\n",
       "      <th>Stock_Price</th>\n",
       "      <th>Market_Capitalization_Million</th>\n",
       "      <th>R&amp;D_Expenditure_Million</th>\n",
       "      <th>Sustainability_Investments_Million</th>\n",
       "      <th>Sustainability_Investments_Per_Employee</th>\n",
       "      <th>...</th>\n",
       "      <th>Veteran_Workforce_Percent</th>\n",
       "      <th>Disabled_Workforce_Percent</th>\n",
       "      <th>Community_Volunteer_Hours_Per_Employee</th>\n",
       "      <th>ESG_Score_Average</th>\n",
       "      <th>Board_Independence_Percent</th>\n",
       "      <th>Board_Percent_Female</th>\n",
       "      <th>Board_Percent_Minority</th>\n",
       "      <th>Board_Age_Avg</th>\n",
       "      <th>Anti_Corruption_Incidents</th>\n",
       "      <th>Whistleblower_Cases</th>\n",
       "    </tr>\n",
       "  </thead>\n",
       "  <tbody>\n",
       "    <tr>\n",
       "      <th>0</th>\n",
       "      <td>Nucor</td>\n",
       "      <td>2010</td>\n",
       "      <td>24619.67</td>\n",
       "      <td>19587.40</td>\n",
       "      <td>5032.28</td>\n",
       "      <td>37.78</td>\n",
       "      <td>16560.85</td>\n",
       "      <td>256.33</td>\n",
       "      <td>1016.25</td>\n",
       "      <td>0.06</td>\n",
       "      <td>...</td>\n",
       "      <td>11.63</td>\n",
       "      <td>4.56</td>\n",
       "      <td>6.73</td>\n",
       "      <td>60.95</td>\n",
       "      <td>75.60</td>\n",
       "      <td>26.40</td>\n",
       "      <td>14.62</td>\n",
       "      <td>60.22</td>\n",
       "      <td>0</td>\n",
       "      <td>0</td>\n",
       "    </tr>\n",
       "    <tr>\n",
       "      <th>1</th>\n",
       "      <td>US Steel</td>\n",
       "      <td>2010</td>\n",
       "      <td>16214.98</td>\n",
       "      <td>13226.16</td>\n",
       "      <td>2988.82</td>\n",
       "      <td>24.78</td>\n",
       "      <td>10335.78</td>\n",
       "      <td>207.85</td>\n",
       "      <td>503.38</td>\n",
       "      <td>0.02</td>\n",
       "      <td>...</td>\n",
       "      <td>13.96</td>\n",
       "      <td>5.38</td>\n",
       "      <td>11.59</td>\n",
       "      <td>60.86</td>\n",
       "      <td>64.18</td>\n",
       "      <td>28.13</td>\n",
       "      <td>23.50</td>\n",
       "      <td>59.74</td>\n",
       "      <td>0</td>\n",
       "      <td>1</td>\n",
       "    </tr>\n",
       "    <tr>\n",
       "      <th>2</th>\n",
       "      <td>Cleveland Cliffs</td>\n",
       "      <td>2010</td>\n",
       "      <td>19557.67</td>\n",
       "      <td>16147.86</td>\n",
       "      <td>3409.81</td>\n",
       "      <td>28.73</td>\n",
       "      <td>9482.10</td>\n",
       "      <td>541.07</td>\n",
       "      <td>420.23</td>\n",
       "      <td>0.02</td>\n",
       "      <td>...</td>\n",
       "      <td>7.40</td>\n",
       "      <td>3.72</td>\n",
       "      <td>7.95</td>\n",
       "      <td>59.48</td>\n",
       "      <td>74.68</td>\n",
       "      <td>39.57</td>\n",
       "      <td>16.05</td>\n",
       "      <td>61.43</td>\n",
       "      <td>0</td>\n",
       "      <td>1</td>\n",
       "    </tr>\n",
       "    <tr>\n",
       "      <th>3</th>\n",
       "      <td>Steel Dynamics</td>\n",
       "      <td>2010</td>\n",
       "      <td>13559.25</td>\n",
       "      <td>11011.17</td>\n",
       "      <td>2548.08</td>\n",
       "      <td>23.71</td>\n",
       "      <td>11508.66</td>\n",
       "      <td>140.09</td>\n",
       "      <td>273.81</td>\n",
       "      <td>0.01</td>\n",
       "      <td>...</td>\n",
       "      <td>13.47</td>\n",
       "      <td>7.28</td>\n",
       "      <td>9.84</td>\n",
       "      <td>59.69</td>\n",
       "      <td>85.53</td>\n",
       "      <td>38.07</td>\n",
       "      <td>29.63</td>\n",
       "      <td>57.32</td>\n",
       "      <td>0</td>\n",
       "      <td>0</td>\n",
       "    </tr>\n",
       "    <tr>\n",
       "      <th>4</th>\n",
       "      <td>Nucor</td>\n",
       "      <td>2011</td>\n",
       "      <td>26198.08</td>\n",
       "      <td>23039.79</td>\n",
       "      <td>3158.29</td>\n",
       "      <td>33.54</td>\n",
       "      <td>13372.77</td>\n",
       "      <td>454.00</td>\n",
       "      <td>939.47</td>\n",
       "      <td>0.06</td>\n",
       "      <td>...</td>\n",
       "      <td>13.53</td>\n",
       "      <td>4.47</td>\n",
       "      <td>9.43</td>\n",
       "      <td>61.28</td>\n",
       "      <td>71.55</td>\n",
       "      <td>35.53</td>\n",
       "      <td>17.92</td>\n",
       "      <td>58.64</td>\n",
       "      <td>1</td>\n",
       "      <td>0</td>\n",
       "    </tr>\n",
       "  </tbody>\n",
       "</table>\n",
       "<p>5 rows × 48 columns</p>\n",
       "</div>"
      ],
      "text/plain": [
       "            Company  Year  Revenue_Million  Operating_Costs_Million  \\\n",
       "0             Nucor  2010         24619.67                 19587.40   \n",
       "1          US Steel  2010         16214.98                 13226.16   \n",
       "2  Cleveland Cliffs  2010         19557.67                 16147.86   \n",
       "3    Steel Dynamics  2010         13559.25                 11011.17   \n",
       "4             Nucor  2011         26198.08                 23039.79   \n",
       "\n",
       "   Net_Income_Million  Stock_Price  Market_Capitalization_Million  \\\n",
       "0             5032.28        37.78                       16560.85   \n",
       "1             2988.82        24.78                       10335.78   \n",
       "2             3409.81        28.73                        9482.10   \n",
       "3             2548.08        23.71                       11508.66   \n",
       "4             3158.29        33.54                       13372.77   \n",
       "\n",
       "   R&D_Expenditure_Million  Sustainability_Investments_Million  \\\n",
       "0                   256.33                             1016.25   \n",
       "1                   207.85                              503.38   \n",
       "2                   541.07                              420.23   \n",
       "3                   140.09                              273.81   \n",
       "4                   454.00                              939.47   \n",
       "\n",
       "   Sustainability_Investments_Per_Employee  ...  Veteran_Workforce_Percent  \\\n",
       "0                                     0.06  ...                      11.63   \n",
       "1                                     0.02  ...                      13.96   \n",
       "2                                     0.02  ...                       7.40   \n",
       "3                                     0.01  ...                      13.47   \n",
       "4                                     0.06  ...                      13.53   \n",
       "\n",
       "   Disabled_Workforce_Percent  Community_Volunteer_Hours_Per_Employee  \\\n",
       "0                        4.56                                    6.73   \n",
       "1                        5.38                                   11.59   \n",
       "2                        3.72                                    7.95   \n",
       "3                        7.28                                    9.84   \n",
       "4                        4.47                                    9.43   \n",
       "\n",
       "   ESG_Score_Average  Board_Independence_Percent  Board_Percent_Female  \\\n",
       "0              60.95                       75.60                 26.40   \n",
       "1              60.86                       64.18                 28.13   \n",
       "2              59.48                       74.68                 39.57   \n",
       "3              59.69                       85.53                 38.07   \n",
       "4              61.28                       71.55                 35.53   \n",
       "\n",
       "   Board_Percent_Minority  Board_Age_Avg  Anti_Corruption_Incidents  \\\n",
       "0                   14.62          60.22                          0   \n",
       "1                   23.50          59.74                          0   \n",
       "2                   16.05          61.43                          0   \n",
       "3                   29.63          57.32                          0   \n",
       "4                   17.92          58.64                          1   \n",
       "\n",
       "   Whistleblower_Cases  \n",
       "0                    0  \n",
       "1                    1  \n",
       "2                    1  \n",
       "3                    0  \n",
       "4                    0  \n",
       "\n",
       "[5 rows x 48 columns]"
      ]
     },
     "execution_count": 3,
     "metadata": {},
     "output_type": "execute_result"
    }
   ],
   "source": [
    "#Verify the DataFrame\n",
    "df.head()"
   ]
  },
  {
   "cell_type": "markdown",
   "id": "f14f6c8c-478c-4fb9-acfa-a3a0aed59560",
   "metadata": {},
   "source": [
    "## Stage 3. Data Preparation and Pre-Processing"
   ]
  },
  {
   "cell_type": "markdown",
   "id": "362c9bba-ff5f-4afd-ba4f-766539f97c7d",
   "metadata": {},
   "source": [
    "This stage involves cleaning the data to address missing values and errors. Data transformation and dimensionality reduction will be postponed until after Stage 4 to maintain the interpretability of each attribute."
   ]
  },
  {
   "cell_type": "code",
   "execution_count": 4,
   "id": "e6844cf3-cdaa-477b-bec7-01f72189cb61",
   "metadata": {},
   "outputs": [
    {
     "name": "stdout",
     "output_type": "stream",
     "text": [
      "<class 'pandas.core.frame.DataFrame'>\n",
      "RangeIndex: 60 entries, 0 to 59\n",
      "Data columns (total 48 columns):\n",
      " #   Column                                                Non-Null Count  Dtype  \n",
      "---  ------                                                --------------  -----  \n",
      " 0   Company                                               60 non-null     object \n",
      " 1   Year                                                  60 non-null     int64  \n",
      " 2   Revenue_Million                                       60 non-null     float64\n",
      " 3   Operating_Costs_Million                               60 non-null     float64\n",
      " 4   Net_Income_Million                                    60 non-null     float64\n",
      " 5   Stock_Price                                           60 non-null     float64\n",
      " 6   Market_Capitalization_Million                         60 non-null     float64\n",
      " 7   R&D_Expenditure_Million                               60 non-null     float64\n",
      " 8   Sustainability_Investments_Million                    60 non-null     float64\n",
      " 9   Sustainability_Investments_Per_Employee               60 non-null     float64\n",
      " 10  Biodiversity_Specific_Investments_Million             60 non-null     float64\n",
      " 11  Biodiversity_Specific_Investments_Per_Employee        60 non-null     float64\n",
      " 12  Community_Engagement_Spending_Million                 60 non-null     float64\n",
      " 13  Community_Engagement_Spending_Per_Employee            60 non-null     float64\n",
      " 14  Total_Energy_Consumption_MWh                          60 non-null     float64\n",
      " 15  Energy_Intensity_kWh_Per_Ton_Steel                    60 non-null     float64\n",
      " 16  Energy_Consumption_From_Renewables_Percent            60 non-null     float64\n",
      " 17  Recycled_Steel_Used_Percent                           60 non-null     float64\n",
      " 18  Total_Water_Usage_Megaliter                           60 non-null     float64\n",
      " 19  Water_Recycled_Percent                                59 non-null     float64\n",
      " 20  Water_Intensity_Kiloliter_Per_Ton_Steel               60 non-null     float64\n",
      " 21  Waste_Recycled_Percent                                60 non-null     float64\n",
      " 22  CO2_Emissions_Tonnes                                  60 non-null     float64\n",
      " 23  NOx_Emissions_Tonnes                                  59 non-null     float64\n",
      " 24  SOx_Emissions_Tonnes                                  60 non-null     float64\n",
      " 25  Total_CO2_Equivalent_Emission_Tonnes                  60 non-null     float64\n",
      " 26  Scope1_CO2_Equivalent_Emissions_Tonnes                60 non-null     float64\n",
      " 27  Scope2_CO2_Equivalent_Emissions_Tonnes                60 non-null     float64\n",
      " 28  Scope3_CO2_Equivalent_Emissions_Tonnes                60 non-null     float64\n",
      " 29  GHG_Intensity_CO2_Equivalent_Emissions_Per_Ton_Steel  60 non-null     float64\n",
      " 30  Regulation_Noncompliance_Air_And_Water_Incidents      60 non-null     int64  \n",
      " 31  Employee_Turnover_Rate_Percent                        60 non-null     float64\n",
      " 32  Employee_Training_Hours_Per_Employee                  60 non-null     float64\n",
      " 33  Median_Employee_Pay_Nonexecutive                      60 non-null     float64\n",
      " 34  Injury_Rate_Per_100_Employees                         59 non-null     float64\n",
      " 35  Significant_Accidents_Count                           60 non-null     int64  \n",
      " 36  Female_Workforce_Percent                              60 non-null     float64\n",
      " 37  Minority_Workforce_Percent                            60 non-null     float64\n",
      " 38  Veteran_Workforce_Percent                             60 non-null     float64\n",
      " 39  Disabled_Workforce_Percent                            60 non-null     float64\n",
      " 40  Community_Volunteer_Hours_Per_Employee                60 non-null     float64\n",
      " 41  ESG_Score_Average                                     60 non-null     float64\n",
      " 42  Board_Independence_Percent                            60 non-null     float64\n",
      " 43  Board_Percent_Female                                  60 non-null     float64\n",
      " 44  Board_Percent_Minority                                60 non-null     float64\n",
      " 45  Board_Age_Avg                                         60 non-null     float64\n",
      " 46  Anti_Corruption_Incidents                             60 non-null     int64  \n",
      " 47  Whistleblower_Cases                                   60 non-null     int64  \n",
      "dtypes: float64(42), int64(5), object(1)\n",
      "memory usage: 22.6+ KB\n"
     ]
    },
    {
     "data": {
      "text/plain": [
       "Company\n",
       "Nucor               15\n",
       "US Steel            15\n",
       "Cleveland Cliffs    15\n",
       "Steel Dynamics      15\n",
       "Name: count, dtype: int64"
      ]
     },
     "execution_count": 4,
     "metadata": {},
     "output_type": "execute_result"
    }
   ],
   "source": [
    "#Identify missing values and correct data types\n",
    "df.info()\n",
    "df['Company'].value_counts()"
   ]
  },
  {
   "cell_type": "markdown",
   "id": "54c9858e-3731-4ca4-9c80-aa4a6dffcb20",
   "metadata": {},
   "source": [
    "Note: Three of the columns are missing one value each. To fix this issue, we can use the standard method of replacing missing values with the mean."
   ]
  },
  {
   "cell_type": "code",
   "execution_count": 5,
   "id": "bd993cca-f575-4d57-b237-d84566d2cde3",
   "metadata": {},
   "outputs": [
    {
     "name": "stdout",
     "output_type": "stream",
     "text": [
      "Missing values filled using the mean\n"
     ]
    }
   ],
   "source": [
    "#Three columns missing values\n",
    "Missing_Values_Columns = ['Water_Recycled_Percent', 'NOx_Emissions_Tonnes', 'Injury_Rate_Per_100_Employees']\n",
    "\n",
    "#Fill missing values with the mean\n",
    "for col in Missing_Values_Columns:\n",
    "    df[col].fillna(df[col].mean(), inplace=True)\n",
    "    \n",
    "print(\"Missing values filled using the mean\")"
   ]
  },
  {
   "cell_type": "markdown",
   "id": "54161f6a-4f5a-43d3-8718-089478c9ff1b",
   "metadata": {},
   "source": [
    "### Everything looks great, export to csv and move on to Stage 4"
   ]
  },
  {
   "cell_type": "code",
   "execution_count": 6,
   "id": "3e44b819-a3cd-4a80-9e98-681809c411cf",
   "metadata": {},
   "outputs": [
    {
     "name": "stdout",
     "output_type": "stream",
     "text": [
      "Export complete\n"
     ]
    }
   ],
   "source": [
    "df.to_csv(\"Steel_Stage_4.csv\", index=False)\n",
    "\n",
    "print(\"Export complete\")"
   ]
  },
  {
   "cell_type": "markdown",
   "id": "500ba96c-be57-45bf-a4e1-e42aab1ee993",
   "metadata": {},
   "source": [
    "<br>\n",
    "Author: Kevin Pordon - MBA"
   ]
  }
 ],
 "metadata": {
  "kernelspec": {
   "display_name": "Python 3 (ipykernel)",
   "language": "python",
   "name": "python3"
  },
  "language_info": {
   "codemirror_mode": {
    "name": "ipython",
    "version": 3
   },
   "file_extension": ".py",
   "mimetype": "text/x-python",
   "name": "python",
   "nbconvert_exporter": "python",
   "pygments_lexer": "ipython3",
   "version": "3.12.7"
  }
 },
 "nbformat": 4,
 "nbformat_minor": 5
}
