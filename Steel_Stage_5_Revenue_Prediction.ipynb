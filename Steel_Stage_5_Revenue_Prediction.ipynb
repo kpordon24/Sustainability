{
 "cells": [
  {
   "cell_type": "markdown",
   "id": "0a6fb969-02aa-488d-9098-38bee766b040",
   "metadata": {},
   "source": [
    "##  Steel Dynamics Sustainability: Executive Level Benchmarking & Future Strategies"
   ]
  },
  {
   "cell_type": "markdown",
   "id": "007c0e54-0806-4d11-adb1-4e41e3f8d530",
   "metadata": {},
   "source": [
    "## Stage 5. Revenue - Machine Learning Model Development and Evaluation"
   ]
  },
  {
   "cell_type": "markdown",
   "id": "13160ced-66cb-4672-a44c-1b591a28e760",
   "metadata": {},
   "source": [
    "This is where the magic happens! Drawing from the problem definition and observations from the previous stage, we will explore a few of the most suitable algorithms (e.g., regression, decision tree, gradient boost) to create models that identify important features and accurately predict performance. This requires dividing the data into training and unseen testing datasets, tuning hyperparameters, and scoring performance. "
   ]
  },
  {
   "cell_type": "code",
   "execution_count": 1,
   "id": "5ad3ba10-2e32-4610-b8ff-c7cdefe159c3",
   "metadata": {},
   "outputs": [
    {
     "name": "stdout",
     "output_type": "stream",
     "text": [
      "Requirement already satisfied: xgboost in c:\\users\\kevin\\anaconda3\\lib\\site-packages (3.0.0)\n",
      "Requirement already satisfied: numpy in c:\\users\\kevin\\anaconda3\\lib\\site-packages (from xgboost) (1.26.4)\n",
      "Requirement already satisfied: scipy in c:\\users\\kevin\\anaconda3\\lib\\site-packages (from xgboost) (1.13.1)\n",
      "Requirement already satisfied: lightgbm in c:\\users\\kevin\\anaconda3\\lib\\site-packages (4.6.0)\n",
      "Requirement already satisfied: numpy>=1.17.0 in c:\\users\\kevin\\anaconda3\\lib\\site-packages (from lightgbm) (1.26.4)\n",
      "Requirement already satisfied: scipy in c:\\users\\kevin\\anaconda3\\lib\\site-packages (from lightgbm) (1.13.1)\n",
      "Finished\n"
     ]
    }
   ],
   "source": [
    "#Import all libraries\n",
    "import pandas as pd\n",
    "import numpy as np\n",
    "import matplotlib.pyplot as plt\n",
    "import seaborn as sns\n",
    "from statsmodels.stats.outliers_influence import variance_inflation_factor\n",
    "import statsmodels.tools.tools as smt\n",
    "from sklearn.linear_model import LassoCV, LinearRegression, Lasso\n",
    "from sklearn.ensemble import RandomForestRegressor, RandomForestClassifier\n",
    "from sklearn.preprocessing import StandardScaler\n",
    "from sklearn.model_selection import train_test_split, GridSearchCV\n",
    "from sklearn.metrics import mean_squared_error, r2_score, confusion_matrix, classification_report, f1_score\n",
    "from sklearn.inspection import partial_dependence, PartialDependenceDisplay\n",
    "import xgboost as xgb  \n",
    "from xgboost import XGBRegressor\n",
    "import lightgbm as lgb \n",
    "!pip install xgboost\n",
    "!pip install lightgbm\n",
    "\n",
    "print(\"Finished\")"
   ]
  },
  {
   "cell_type": "code",
   "execution_count": 2,
   "id": "2be018ce-b41d-4ae5-b35f-97f84ce7b177",
   "metadata": {},
   "outputs": [
    {
     "name": "stdout",
     "output_type": "stream",
     "text": [
      "DataFrame ready\n"
     ]
    }
   ],
   "source": [
    "#Convert csv to pandas dataframe \n",
    "file_path = \"Steel_Stage_5.csv\"\n",
    "df = pd.read_csv(file_path)\n",
    "print(\"DataFrame ready\")"
   ]
  },
  {
   "cell_type": "code",
   "execution_count": 3,
   "id": "ae78f9e2-16d0-4331-9658-09a7c0aeaea2",
   "metadata": {},
   "outputs": [],
   "source": [
    "#Define Input Attributes (This is a list of best-performing features in the upcoming Lasso and Random Forest models)\n",
    "Input_attributes = ['Sustainability_Investments_Million',\n",
    "'Biodiversity_Specific_Investments_Million',\n",
    "'R&D_Expenditure_Million',\n",
    "'Community_Engagement_Spending_Million',                   \n",
    "'Energy_Consumption_From_Renewables_Percent',             \n",
    "'Significant_Accidents_Count',                             \n",
    "'Recycled_Steel_Used_Percent',                                                        \n",
    "'GHG_Intensity_CO2_Equivalent_Emissions_Per_Ton_Steel']"
   ]
  },
  {
   "cell_type": "markdown",
   "id": "34ecd0df-74f4-4ba4-a7c9-6cd2ffbe595d",
   "metadata": {},
   "source": [
    "### Use VIF to determine multicollinearity and Lasso to define the most important features"
   ]
  },
  {
   "cell_type": "code",
   "execution_count": 4,
   "id": "7273c043-ab8d-4296-838a-94691cd16ad6",
   "metadata": {
    "scrolled": true
   },
   "outputs": [
    {
     "name": "stdout",
     "output_type": "stream",
     "text": [
      "\n",
      "VIF Scores:\n",
      "                                             Feature       VIF\n",
      "0                 Sustainability_Investments_Million  8.330831\n",
      "1          Biodiversity_Specific_Investments_Million  7.223573\n",
      "3              Community_Engagement_Spending_Million  6.268107\n",
      "4         Energy_Consumption_From_Renewables_Percent  2.261138\n",
      "2                            R&D_Expenditure_Million  1.588802\n",
      "6                        Recycled_Steel_Used_Percent  1.446918\n",
      "5                        Significant_Accidents_Count  1.425094\n",
      "7  GHG_Intensity_CO2_Equivalent_Emissions_Per_Ton...  1.254059\n"
     ]
    }
   ],
   "source": [
    "#Assign Independent and Dependent Variables\n",
    "X = df[Input_attributes].copy()\n",
    "y = df['Revenue_Million']\n",
    "\n",
    "#Standardize the data and use VIF to Check for multicollinearity\n",
    "scaler = StandardScaler()\n",
    "X_scaled = scaler.fit_transform(X)\n",
    "vif_data = pd.DataFrame()\n",
    "vif_data['Feature'] = X.columns\n",
    "vif_data['VIF'] = [variance_inflation_factor(X_scaled, i) for i in range(X_scaled.shape[1])]\n",
    "print(\"\\nVIF Scores:\")\n",
    "print(vif_data.sort_values('VIF', ascending=False))"
   ]
  },
  {
   "cell_type": "markdown",
   "id": "742f5938-920a-404b-bce5-29259be1d40f",
   "metadata": {},
   "source": [
    "Note: Significant multicollinearity issues were present in the initial VIF scores (>10) across many ESG attributes. To resolve this and reduce dimensionality, the revised list was developed through an iterative approach using VIF scoring and Lasso scoring (below)."
   ]
  },
  {
   "cell_type": "code",
   "execution_count": 5,
   "id": "199ebd51-b788-4d25-b3aa-4db0a5fddc7c",
   "metadata": {},
   "outputs": [
    {
     "name": "stdout",
     "output_type": "stream",
     "text": [
      "\n",
      "Lasso Feature Importances:\n",
      "Sustainability_Investments_Million                      2392.400117\n",
      "Energy_Consumption_From_Renewables_Percent              1359.300392\n",
      "R&D_Expenditure_Million                                 1130.520404\n",
      "Recycled_Steel_Used_Percent                              531.549935\n",
      "Biodiversity_Specific_Investments_Million                508.227563\n",
      "Significant_Accidents_Count                             -441.736176\n",
      "GHG_Intensity_CO2_Equivalent_Emissions_Per_Ton_Steel    -991.972158\n",
      "dtype: float64\n"
     ]
    }
   ],
   "source": [
    "#Lasso Feature Selection: Tune hyperparameters to determine attributes with non-zero coefficients to reduce dimensionality, prevent overfitting, and improve generalization\n",
    "lasso = LassoCV(cv=5, random_state=0, max_iter=10000).fit(X_scaled, y)\n",
    "coef_df = pd.Series(lasso.coef_, index=X.columns)\n",
    "\n",
    "#Select Features\n",
    "selected_features_with_scores = coef_df[coef_df != 0].sort_values(ascending=False)\n",
    "selected_features_lasso = selected_features_with_scores.index.tolist()\n",
    "\n",
    "print(\"\\nLasso Feature Importances:\")\n",
    "print(selected_features_with_scores)"
   ]
  },
  {
   "cell_type": "markdown",
   "id": "9d8a5b05-0aa2-40d3-aa56-def6cb3c1b2e",
   "metadata": {},
   "source": [
    "Note: Lasso identified sustainability investments, energy consumption from renewables, and R&D spending as the three most influential features."
   ]
  },
  {
   "cell_type": "markdown",
   "id": "016f9c7e-77c3-40b8-93ff-65dcaf0d1a21",
   "metadata": {},
   "source": [
    "### Develop a baseline linear regression model using Lasso"
   ]
  },
  {
   "cell_type": "code",
   "execution_count": 6,
   "id": "7efb5f65-dccb-4b26-a5ee-65a90fc9b91a",
   "metadata": {},
   "outputs": [
    {
     "name": "stdout",
     "output_type": "stream",
     "text": [
      "Fitting 3 folds for each of 5 candidates, totalling 15 fits\n",
      "Best hyperparameters: {'alpha': 0.0001}\n",
      "Mean Squared Error: 5689473.56\n",
      "R-squared: 0.8040\n"
     ]
    }
   ],
   "source": [
    "#Split into testing and training sets using the selected features\n",
    "X_train, X_test, y_train, y_test = train_test_split(X[selected_features_lasso], y, test_size=0.2, random_state=42)\n",
    "\n",
    "#Create Lasso model\n",
    "lasso = Lasso(random_state=42)\n",
    "\n",
    "#Define tuning parameters\n",
    "param_grid_lasso = {\n",
    "    'alpha': np.logspace(-4, 0, 5)} \n",
    "\n",
    "#Set up GridSearchCV for hyperparameter tuning\n",
    "grid_search_lasso = GridSearchCV(estimator=lasso,\n",
    "                                 param_grid=param_grid_lasso,\n",
    "                                 scoring='neg_mean_squared_error',\n",
    "                                 cv=3,\n",
    "                                 verbose=2,\n",
    "                                 n_jobs=-1)\n",
    "\n",
    "#GridSearchCV to find the best hyperparameters\n",
    "grid_search_lasso.fit(X_train, y_train)\n",
    "\n",
    "#Best Lasso model and parameters\n",
    "best_lasso = grid_search_lasso.best_estimator_\n",
    "print(\"Best hyperparameters:\", grid_search_lasso.best_params_)\n",
    "\n",
    "#Make predictions using test data\n",
    "y_pred_lasso = best_lasso.predict(X_test)\n",
    "\n",
    "#Evaluate outcomes\n",
    "mse_lasso = mean_squared_error(y_test, y_pred_lasso)\n",
    "print(f\"Mean Squared Error: {mse_lasso:.2f}\")\n",
    "\n",
    "r2_lasso = r2_score(y_test, y_pred_lasso)\n",
    "print(f\"R-squared: {r2_lasso:.4f}\")"
   ]
  },
  {
   "cell_type": "markdown",
   "id": "35749be1-8260-4284-800f-b2d9eb44734f",
   "metadata": {},
   "source": [
    "Note: Moving from regression to classification, the Lasso model explained roughly 80% of the variance in revenue. We will now assess its ability to predict whether a company's revenue falls above (High) or below (Low) the industry mean using the selected ESG attributes."
   ]
  },
  {
   "cell_type": "code",
   "execution_count": 7,
   "id": "64e3fd44-ff24-4a13-b492-543ed7e8764f",
   "metadata": {},
   "outputs": [
    {
     "name": "stdout",
     "output_type": "stream",
     "text": [
      "\n",
      "Revenue Classification Report - Lasso:\n",
      "              precision    recall  f1-score   support\n",
      "\n",
      "         Low       0.67      0.80      0.73         5\n",
      "        High       0.83      0.71      0.77         7\n",
      "\n",
      "    accuracy                           0.75        12\n",
      "   macro avg       0.75      0.76      0.75        12\n",
      "weighted avg       0.76      0.75      0.75        12\n",
      "\n"
     ]
    },
    {
     "data": {
      "image/png": "[encoded data removed]",
      "text/plain": [
       "<Figure size 800x600 with 2 Axes>"
      ]
     },
     "metadata": {},
     "output_type": "display_data"
    }
   ],
   "source": [
    "#Convert continuous predictions to categories\n",
    "threshold = np.mean(y_test)\n",
    "\n",
    "#Assign values to categorical labels\n",
    "y_pred_categorical_lasso = ['High' if val > threshold else 'Low' for val in y_pred_lasso]\n",
    "y_true_categorical = ['High' if val > threshold else 'Low' for val in y_test]\n",
    "\n",
    "#Classification report\n",
    "print(\"\\nRevenue Classification Report - Lasso:\")\n",
    "print(classification_report(y_true_categorical, y_pred_categorical_lasso, labels=['Low', 'High']))\n",
    "\n",
    "#Confusion matrix\n",
    "cm_lasso = confusion_matrix(y_true_categorical, y_pred_categorical_lasso, labels=['Low', 'High'])\n",
    "\n",
    "plt.figure(figsize=(8, 6))\n",
    "sns.heatmap(cm_lasso, annot=True, fmt='d', cmap='Greens',\n",
    "            xticklabels=['Predicted Low', 'Predicted High'],\n",
    "            yticklabels=['Actual Low', 'Actual High'])\n",
    "plt.title('Revenue Confusion Matrix - Lasso')\n",
    "plt.show()"
   ]
  },
  {
   "cell_type": "markdown",
   "id": "ab38b8d5-2db3-4ae5-acb1-ca59bdfd3061",
   "metadata": {},
   "source": [
    "Note: The linear Lasso model accurately predicted whether revenue would be above or below the industry mean in 9 out of 12 cases, based on the assigned important ESG attributes. The F1 score was: 75%."
   ]
  },
  {
   "cell_type": "markdown",
   "id": "6a976e22-80d1-42e3-bc62-d21227fc4a91",
   "metadata": {},
   "source": [
    "## Build a non-linear tree based model using Random Forest"
   ]
  },
  {
   "cell_type": "code",
   "execution_count": 8,
   "id": "44e2e646-c866-44dc-b56a-2d557c96cb9f",
   "metadata": {},
   "outputs": [
    {
     "name": "stdout",
     "output_type": "stream",
     "text": [
      "Fitting 3 folds for each of 162 candidates, totalling 486 fits\n",
      "Best hyperparameters: {'max_depth': 5, 'max_features': 'sqrt', 'min_samples_leaf': 1, 'min_samples_split': 2, 'n_estimators': 300}\n",
      "\n",
      "Random Forest Feature Importances:\n",
      "Sustainability_Investments_Million                      0.298188\n",
      "Biodiversity_Specific_Investments_Million               0.213124\n",
      "Energy_Consumption_From_Renewables_Percent              0.154183\n",
      "R&D_Expenditure_Million                                 0.146612\n",
      "Recycled_Steel_Used_Percent                             0.069526\n",
      "Significant_Accidents_Count                             0.065629\n",
      "GHG_Intensity_CO2_Equivalent_Emissions_Per_Ton_Steel    0.052737\n",
      "dtype: float64\n",
      "\n",
      "MSE: 6031110.07\n",
      "R²: 0.7922\n"
     ]
    }
   ],
   "source": [
    "param_grid = {\n",
    "    'n_estimators': [100, 200, 300],\n",
    "    'max_depth': [None, 5, 10],\n",
    "    'min_samples_split': [2, 5, 10],\n",
    "    'min_samples_leaf': [1, 3, 5],\n",
    "    'max_features': ['sqrt', 'log2']}\n",
    "\n",
    "rf = RandomForestRegressor(random_state=42)\n",
    "grid_search = GridSearchCV(estimator=rf, param_grid=param_grid, cv=3, scoring='neg_mean_squared_error', verbose=2, n_jobs=-1)\n",
    "grid_search.fit(X_train, y_train)\n",
    "\n",
    "print(\"Best hyperparameters:\", grid_search.best_params_)\n",
    "best_rf = grid_search.best_estimator_\n",
    "\n",
    "importances = pd.Series(best_rf.feature_importances_, index=selected_features_lasso)\n",
    "importances = importances.sort_values(ascending=False)\n",
    "print(\"\\nRandom Forest Feature Importances:\")\n",
    "print(importances)\n",
    "\n",
    "y_pred_rf = best_rf.predict(X_test) \n",
    "mse = mean_squared_error(y_test, y_pred_rf)\n",
    "r2 = r2_score(y_test, y_pred_rf)\n",
    "\n",
    "print(f\"\\nMSE: {mse:.2f}\")\n",
    "print(f\"R²: {r2:.4f}\")"
   ]
  },
  {
   "cell_type": "markdown",
   "id": "9ada2bde-bcc9-469a-8ac7-878627ac33b2",
   "metadata": {},
   "source": [
    "Note: Sustainability investments and energy consumption from renewables were deemed important by both Lasso and Random Forest. But Random Forest identified biodiversity investments as a top feature whereas Lasso chose R&D."
   ]
  },
  {
   "cell_type": "code",
   "execution_count": 9,
   "id": "ea68c138-03c1-43e6-b131-e53d8445bca5",
   "metadata": {},
   "outputs": [
    {
     "name": "stdout",
     "output_type": "stream",
     "text": [
      "\n",
      "Revenue Classification Report - Random Forest:\n",
      "              precision    recall  f1-score   support\n",
      "\n",
      "        High       0.86      0.86      0.86         7\n",
      "         Low       0.80      0.80      0.80         5\n",
      "\n",
      "    accuracy                           0.83        12\n",
      "   macro avg       0.83      0.83      0.83        12\n",
      "weighted avg       0.83      0.83      0.83        12\n",
      "\n"
     ]
    },
    {
     "data": {
      "image/png": "[encoded data removed]",
      "text/plain": [
       "<Figure size 800x600 with 2 Axes>"
      ]
     },
     "metadata": {},
     "output_type": "display_data"
    }
   ],
   "source": [
    "y_pred_category = ['High' if val > y_test.mean() else 'Low' for val in y_pred_rf]\n",
    "y_test_category = ['High' if val > y_test.mean() else 'Low' for val in y_test]\n",
    "\n",
    "class_report = classification_report(y_test_category, y_pred_category) \n",
    "print(\"\\nRevenue Classification Report - Random Forest:\")\n",
    "print(class_report)\n",
    "\n",
    "conf_matrix = confusion_matrix(y_test_category, y_pred_category)\n",
    "\n",
    "plt.figure(figsize=(8, 6))\n",
    "sns.heatmap(conf_matrix, annot=True, fmt='d', cmap='Greens', \n",
    "            xticklabels=['Predicted Low', 'Predicted High'], yticklabels=['Actual Low', 'Actual High'])\n",
    "plt.title('Revenue Confusion Matrix - Random Forest')\n",
    "plt.show()"
   ]
  },
  {
   "cell_type": "markdown",
   "id": "390f8cba-7da7-4c38-8e5b-a9c920e0fffa",
   "metadata": {},
   "source": [
    "Note: Random Forest predicted 10 out of 12 outcomes correctly, showing an improvement in the F1 score (83% compared to 75% for the linear model)."
   ]
  },
  {
   "cell_type": "markdown",
   "id": "b5403fdd-f998-46f7-8f12-a19779bb2853",
   "metadata": {},
   "source": [
    "## Develop a gradient boosting model using XGBoost"
   ]
  },
  {
   "cell_type": "markdown",
   "id": "7af839dc-e661-48e2-95b6-1f954a1be458",
   "metadata": {},
   "source": [
    "XGBoost often surpasses Random Forest in accuracy and generalization due to its ability to learn from errors throughout the process. Its unique feature selection capabilities make it suitable for training on the entire ESG dataset to evaluate its performance. We will develop one XGB model using all features and another using the features identified by Lasso."
   ]
  },
  {
   "cell_type": "code",
   "execution_count": 10,
   "id": "1fd9de6c-7d74-4ab8-87f5-c0a680490dea",
   "metadata": {},
   "outputs": [],
   "source": [
    "#Use all attributes\n",
    "XGBoost_attributes = ['R&D_Expenditure_Million',\n",
    "    'Sustainability_Investments_Million',\n",
    "    'Sustainability_Investments_Per_Employee',\n",
    "    'Biodiversity_Specific_Investments_Million',\n",
    "    'Biodiversity_Specific_Investments_Per_Employee',\n",
    "    'Community_Engagement_Spending_Million',\n",
    "    'Community_Engagement_Spending_Per_Employee',\n",
    "    'Total_Energy_Consumption_MWh',\n",
    "    'Energy_Intensity_kWh_Per_Ton_Steel',\n",
    "    'Energy_Consumption_From_Renewables_Percent',\n",
    "    'Recycled_Steel_Used_Percent',\n",
    "    'Total_Water_Usage_Megaliter',\n",
    "    'Water_Recycled_Percent',\n",
    "    'Water_Intensity_Kiloliter_Per_Ton_Steel',\n",
    "    'Waste_Recycled_Percent',\n",
    "    'CO2_Emissions_Tonnes',\n",
    "    'NOx_Emissions_Tonnes',\n",
    "    'SOx_Emissions_Tonnes',  \n",
    "    'Total_CO2_Equivalent_Emission_Tonnes',\n",
    "    'Scope1_CO2_Equivalent_Emissions_Tonnes',\n",
    "    'Scope2_CO2_Equivalent_Emissions_Tonnes',\n",
    "    'Scope3_CO2_Equivalent_Emissions_Tonnes',\n",
    "    'GHG_Intensity_CO2_Equivalent_Emissions_Per_Ton_Steel',\n",
    "    'Regulation_Noncompliance_Air_And_Water_Incidents',\n",
    "    'Employee_Turnover_Rate_Percent',\n",
    "    'Employee_Training_Hours_Per_Employee',\n",
    "    'Median_Employee_Pay_Nonexecutive',\n",
    "    'Injury_Rate_Per_100_Employees',\n",
    "    'Significant_Accidents_Count',\n",
    "    'Female_Workforce_Percent',\n",
    "    'Minority_Workforce_Percent',\n",
    "    'Veteran_Workforce_Percent',\n",
    "    'Disabled_Workforce_Percent',\n",
    "    'Community_Volunteer_Hours_Per_Employee',\n",
    "    'Board_Independence_Percent',\n",
    "    'Board_Percent_Female',\n",
    "    'Board_Percent_Minority',\n",
    "    'Board_Age_Avg',\n",
    "    'Anti_Corruption_Incidents',\n",
    "    'Whistleblower_Cases']\n",
    "X = df[XGBoost_attributes].copy()"
   ]
  },
  {
   "cell_type": "code",
   "execution_count": 11,
   "id": "19b5c022-b0f8-475b-a580-664f6ff25449",
   "metadata": {},
   "outputs": [
    {
     "name": "stdout",
     "output_type": "stream",
     "text": [
      "Fitting 3 folds for each of 8748 candidates, totalling 26244 fits\n",
      "\n",
      "Best hyperparameters: {'colsample_bytree': 0.7, 'gamma': 0.1, 'learning_rate': 0.03, 'max_depth': 5, 'n_estimators': 500, 'reg_alpha': 0.1, 'reg_lambda': 0.1, 'subsample': 0.8}\n",
      "\n",
      "XGBoost Feature Importances:\n",
      "Sustainability_Investments_Million                      0.157248\n",
      "Anti_Corruption_Incidents                               0.117515\n",
      "Biodiversity_Specific_Investments_Million               0.114397\n",
      "Sustainability_Investments_Per_Employee                 0.060903\n",
      "Scope3_CO2_Equivalent_Emissions_Tonnes                  0.058431\n",
      "Recycled_Steel_Used_Percent                             0.036798\n",
      "Waste_Recycled_Percent                                  0.034607\n",
      "Energy_Consumption_From_Renewables_Percent              0.033722\n",
      "Total_CO2_Equivalent_Emission_Tonnes                    0.032135\n",
      "Total_Energy_Consumption_MWh                            0.030681\n",
      "R&D_Expenditure_Million                                 0.027490\n",
      "GHG_Intensity_CO2_Equivalent_Emissions_Per_Ton_Steel    0.026796\n",
      "Community_Volunteer_Hours_Per_Employee                  0.020552\n",
      "CO2_Emissions_Tonnes                                    0.020439\n",
      "Employee_Turnover_Rate_Percent                          0.019731\n",
      "Board_Independence_Percent                              0.018373\n",
      "Employee_Training_Hours_Per_Employee                    0.018356\n",
      "Energy_Intensity_kWh_Per_Ton_Steel                      0.017685\n",
      "Disabled_Workforce_Percent                              0.017681\n",
      "Community_Engagement_Spending_Million                   0.017320\n",
      "Scope2_CO2_Equivalent_Emissions_Tonnes                  0.014869\n",
      "Biodiversity_Specific_Investments_Per_Employee          0.012770\n",
      "Injury_Rate_Per_100_Employees                           0.010521\n",
      "Water_Recycled_Percent                                  0.009648\n",
      "Water_Intensity_Kiloliter_Per_Ton_Steel                 0.009372\n",
      "Total_Water_Usage_Megaliter                             0.009187\n",
      "Veteran_Workforce_Percent                               0.007919\n",
      "Board_Age_Avg                                           0.007277\n",
      "SOx_Emissions_Tonnes                                    0.006855\n",
      "NOx_Emissions_Tonnes                                    0.006159\n",
      "Board_Percent_Female                                    0.005617\n",
      "Board_Percent_Minority                                  0.005426\n",
      "Significant_Accidents_Count                             0.004462\n",
      "Minority_Workforce_Percent                              0.003805\n",
      "Female_Workforce_Percent                                0.002852\n",
      "Median_Employee_Pay_Nonexecutive                        0.001101\n",
      "Scope1_CO2_Equivalent_Emissions_Tonnes                  0.000798\n",
      "Regulation_Noncompliance_Air_And_Water_Incidents        0.000370\n",
      "Community_Engagement_Spending_Per_Employee              0.000119\n",
      "Whistleblower_Cases                                     0.000012\n",
      "dtype: float32\n",
      "\n",
      "MSE: 4962727.26\n",
      "R²: 0.8290\n"
     ]
    }
   ],
   "source": [
    "X_train, X_test, y_train, y_test = train_test_split(X, y, test_size=0.2, random_state=42)\n",
    "\n",
    "scaler = StandardScaler()\n",
    "X_train_scaled = scaler.fit_transform(X_train)\n",
    "X_test_scaled = scaler.transform(X_test)\n",
    "\n",
    "xgb = XGBRegressor(objective='reg:squarederror',\n",
    "                    random_state=42,\n",
    "                    early_stopping_rounds=50)\n",
    "\n",
    "param_grid_xgb = {\n",
    "    'n_estimators': [100, 300, 500],\n",
    "    'learning_rate': [0.01, 0.03, 0.05, 0.1],\n",
    "    'max_depth': [3, 5, 7],\n",
    "    'subsample': [0.7, 0.8, 0.9],\n",
    "    'colsample_bytree': [0.7, 0.8, 0.9],\n",
    "    'gamma': [0, 0.1, 0.2],\n",
    "    'reg_alpha': [0, 0.01, 0.1],\n",
    "    'reg_lambda': [0, 0.01, 0.1]}\n",
    "\n",
    "grid_search_xgb = GridSearchCV(estimator=xgb,\n",
    "                                param_grid=param_grid_xgb,\n",
    "                                scoring='neg_mean_squared_error',\n",
    "                                cv=3,\n",
    "                                verbose=2,\n",
    "                                n_jobs=-1)\n",
    "\n",
    "grid_search_xgb.fit(X_train_scaled, y_train,\n",
    "                     eval_set=[(X_test_scaled, y_test)],\n",
    "                     verbose=False)\n",
    "\n",
    "best_xgb = grid_search_xgb.best_estimator_\n",
    "print(\"\\nBest hyperparameters:\", grid_search_xgb.best_params_)\n",
    "\n",
    "y_pred_xgb1 = best_xgb.predict(X_test_scaled)\n",
    "mse_xgb1 = mean_squared_error(y_test, y_pred_xgb1)\n",
    "r2_xgb1 = r2_score(y_test, y_pred_xgb1)\n",
    "\n",
    "feature_importances_xgb = pd.Series(best_xgb.feature_importances_, index=XGBoost_attributes)\n",
    "feature_importances_xgb = feature_importances_xgb.sort_values(ascending=False)\n",
    "print(\"\\nXGBoost Feature Importances:\")\n",
    "print(feature_importances_xgb)\n",
    "\n",
    "print(f\"\\nMSE: {mse_xgb1:.2f}\")\n",
    "print(f\"R²: {r2_xgb1:.4f}\")"
   ]
  },
  {
   "cell_type": "markdown",
   "id": "008e5888-b036-48b9-a015-48d74538f949",
   "metadata": {},
   "source": [
    "Note: XGB determined that sustainability investments, anti corruption incidents, and biodiversity investments were the top features. 83% of revenue variance can be explained by the model.        "
   ]
  },
  {
   "cell_type": "code",
   "execution_count": 12,
   "id": "08bd9b5f-ff26-4ba2-b4a3-fe2cfea68385",
   "metadata": {},
   "outputs": [
    {
     "name": "stdout",
     "output_type": "stream",
     "text": [
      "\n",
      "Revenue Classification Report - XGB:\n",
      "              precision    recall  f1-score   support\n",
      "\n",
      "        High       0.86      0.86      0.86         7\n",
      "         Low       0.80      0.80      0.80         5\n",
      "\n",
      "    accuracy                           0.83        12\n",
      "   macro avg       0.83      0.83      0.83        12\n",
      "weighted avg       0.83      0.83      0.83        12\n",
      "\n"
     ]
    },
    {
     "data": {
      "image/png": "[encoded data removed]",
      "text/plain": [
       "<Figure size 800x600 with 2 Axes>"
      ]
     },
     "metadata": {},
     "output_type": "display_data"
    }
   ],
   "source": [
    "y_pred_category = ['High' if val > y_test.mean() else 'Low' for val in y_pred_xgb1]\n",
    "y_test_category = ['High' if val > y_test.mean() else 'Low' for val in y_test]\n",
    "\n",
    "# Classification Report\n",
    "class_report = classification_report(y_test_category, y_pred_category) \n",
    "print(\"\\nRevenue Classification Report - XGB:\")\n",
    "print(class_report)\n",
    "\n",
    "# Confusion Matrix\n",
    "conf_matrix = confusion_matrix(y_test_category, y_pred_category)\n",
    "plt.figure(figsize=(8, 6))\n",
    "sns.heatmap(conf_matrix, annot=True, fmt='d', cmap='Greens',\n",
    "            xticklabels=['Predicted Low', 'Predicted High'], yticklabels=['Actual Low', 'Actual High'])\n",
    "plt.title('Revenue Confusion Matrix - XGB')\n",
    "plt.show()"
   ]
  },
  {
   "cell_type": "markdown",
   "id": "43cf92a5-70b0-4d04-8f34-3647205938cb",
   "metadata": {},
   "source": [
    "### For comparison, we will train an XGBoost model using only the features selected by Lasso"
   ]
  },
  {
   "cell_type": "code",
   "execution_count": 13,
   "id": "b1dfbc52-8855-4538-bf5d-e55ed85056dd",
   "metadata": {},
   "outputs": [
    {
     "name": "stdout",
     "output_type": "stream",
     "text": [
      "Fitting 3 folds for each of 8748 candidates, totalling 26244 fits\n",
      "\n",
      "Best hyperparameters: {'colsample_bytree': 0.8, 'gamma': 0, 'learning_rate': 0.03, 'max_depth': 7, 'n_estimators': 500, 'reg_alpha': 0.01, 'reg_lambda': 0, 'subsample': 0.9}\n",
      "\n",
      "XGBoost Feature Importances:\n",
      "Biodiversity_Specific_Investments_Million               0.399868\n",
      "Sustainability_Investments_Million                      0.158709\n",
      "R&D_Expenditure_Million                                 0.121757\n",
      "GHG_Intensity_CO2_Equivalent_Emissions_Per_Ton_Steel    0.118124\n",
      "Recycled_Steel_Used_Percent                             0.100671\n",
      "Significant_Accidents_Count                             0.051740\n",
      "Energy_Consumption_From_Renewables_Percent              0.049131\n",
      "dtype: float32\n",
      "\n",
      "MSE: 6421659.08\n",
      "R²: 0.7788\n"
     ]
    }
   ],
   "source": [
    "X_train, X_test, y_train, y_test = train_test_split(X[selected_features_lasso], y, test_size=0.2, random_state=42)\n",
    "\n",
    "scaler = StandardScaler()\n",
    "X_train_scaled = scaler.fit_transform(X_train)\n",
    "X_test_scaled = scaler.transform(X_test)\n",
    "\n",
    "xgb = XGBRegressor(objective='reg:squarederror',\n",
    "                     random_state=42,\n",
    "                     early_stopping_rounds=50)  \n",
    "\n",
    "param_grid_xgb = {\n",
    "    'n_estimators': [100, 300, 500],\n",
    "    'learning_rate': [0.01, 0.03, 0.05, 0.1],\n",
    "    'max_depth': [3, 5, 7],\n",
    "    'subsample': [0.7, 0.8, 0.9],\n",
    "    'colsample_bytree': [0.7, 0.8, 0.9],\n",
    "    'gamma': [0, 0.1, 0.2],\n",
    "    'reg_alpha': [0, 0.01, 0.1],\n",
    "    'reg_lambda': [0, 0.01, 0.1]\n",
    "}\n",
    "\n",
    "grid_search_xgb = GridSearchCV(estimator=xgb,\n",
    "                               param_grid=param_grid_xgb,\n",
    "                               scoring='neg_mean_squared_error',\n",
    "                               cv=3,\n",
    "                               verbose=2,\n",
    "                               n_jobs=-1)\n",
    "\n",
    "grid_search_xgb.fit(X_train_scaled, y_train,\n",
    "                    eval_set=[(X_test_scaled, y_test)],\n",
    "                    verbose=False)\n",
    "\n",
    "best_xgb = grid_search_xgb.best_estimator_\n",
    "print(\"\\nBest hyperparameters:\", grid_search_xgb.best_params_)\n",
    "\n",
    "y_pred_xgb2 = best_xgb.predict(X_test_scaled)\n",
    "mse_xgb2 = mean_squared_error(y_test, y_pred_xgb2)\n",
    "r2_xgb2 = r2_score(y_test, y_pred_xgb2)\n",
    "\n",
    "feature_importances_xgb = pd.Series(best_xgb.feature_importances_, index=selected_features_lasso)\n",
    "feature_importances_xgb = feature_importances_xgb.sort_values(ascending=False)\n",
    "print(\"\\nXGBoost Feature Importances:\")\n",
    "print(feature_importances_xgb)\n",
    "\n",
    "print(f\"\\nMSE: {mse_xgb2:.2f}\")\n",
    "print(f\"R²: {r2_xgb2:.4f}\")"
   ]
  },
  {
   "cell_type": "code",
   "execution_count": 14,
   "id": "1003e651-dbd7-415f-909e-b83cb6584126",
   "metadata": {},
   "outputs": [
    {
     "name": "stdout",
     "output_type": "stream",
     "text": [
      "\n",
      "Revenue Classification Report - XGB (Lasso Features):\n",
      "              precision    recall  f1-score   support\n",
      "\n",
      "        High       0.83      0.71      0.77         7\n",
      "         Low       0.67      0.80      0.73         5\n",
      "\n",
      "    accuracy                           0.75        12\n",
      "   macro avg       0.75      0.76      0.75        12\n",
      "weighted avg       0.76      0.75      0.75        12\n",
      "\n"
     ]
    },
    {
     "data": {
      "image/png": "[encoded data removed]",
      "text/plain": [
       "<Figure size 800x600 with 2 Axes>"
      ]
     },
     "metadata": {},
     "output_type": "display_data"
    }
   ],
   "source": [
    "y_pred_category = ['High' if val > y_test.mean() else 'Low' for val in y_pred_xgb2]\n",
    "y_test_category = ['High' if val > y_test.mean() else 'Low' for val in y_test]\n",
    "\n",
    "class_report = classification_report(y_test_category, y_pred_category)\n",
    "print(\"\\nRevenue Classification Report - XGB (Lasso Features):\")\n",
    "print(class_report)\n",
    "\n",
    "conf_matrix = confusion_matrix(y_test_category, y_pred_category)\n",
    "\n",
    "plt.figure(figsize=(8, 6))\n",
    "sns.heatmap(conf_matrix, annot=True, fmt='d', cmap='Greens',\n",
    "            xticklabels=['Predicted Low', 'Predicted High'], yticklabels=['Actual Low', 'Actual High'])\n",
    "plt.title('Revenue Confusion Matrix - XGB (Lasso Features)')\n",
    "plt.show()"
   ]
  },
  {
   "cell_type": "markdown",
   "id": "f1513eed-1506-4f2d-82d4-c1bae67717bb",
   "metadata": {},
   "source": [
    "Note: In contrast to Lasso and Random Forest, which showed improved performance with reduced dimensionality, XGB performed best when trained on the entire dataset (higher R-squared and F1 score). The drawback of XGB here is its higher resource demands, including processing time."
   ]
  },
  {
   "cell_type": "markdown",
   "id": "91d3a479-baf0-4005-b052-74f218dafa39",
   "metadata": {},
   "source": [
    "### Move on to the next target: ESG Score"
   ]
  },
  {
   "cell_type": "markdown",
   "id": "f5696579-e3eb-416f-ac08-2e453b5883af",
   "metadata": {},
   "source": [
    "Note: Both Random Forest and XGBoost yielded the best predictive performance for revenue. XGB's exceptional feature selection capabilities made it the most efficient model. It achieved optimal results in a single iteration, unlike Lasso and Random Forest."
   ]
  },
  {
   "cell_type": "markdown",
   "id": "3003d34c-25d3-49c4-8909-d19188f5828c",
   "metadata": {},
   "source": [
    "<br>\n",
    "Author: Kevin Pordon - MBA"
   ]
  }
 ],
 "metadata": {
  "kernelspec": {
   "display_name": "Python 3 (ipykernel)",
   "language": "python",
   "name": "python3"
  },
  "language_info": {
   "codemirror_mode": {
    "name": "ipython",
    "version": 3
   },
   "file_extension": ".py",
   "mimetype": "text/x-python",
   "name": "python",
   "nbconvert_exporter": "python",
   "pygments_lexer": "ipython3",
   "version": "3.12.7"
  }
 },
 "nbformat": 4,
 "nbformat_minor": 5
}
